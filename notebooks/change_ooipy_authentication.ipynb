{
 "cells": [
  {
   "cell_type": "markdown",
   "id": "2291dda1-e8b2-4bb9-9d07-ec8d2680d4d4",
   "metadata": {},
   "source": [
    "# Change OOIPY authentication"
   ]
  },
  {
   "cell_type": "code",
   "execution_count": 9,
   "id": "075f24c4-9169-4b93-9a27-afa471e6a631",
   "metadata": {},
   "outputs": [
    {
     "name": "stdout",
     "output_type": "stream",
     "text": [
      "The autoreload extension is already loaded. To reload it, use:\n",
      "  %reload_ext autoreload\n"
     ]
    }
   ],
   "source": [
    "import ooipy\n",
    "import datetime\n",
    "%load_ext autoreload\n",
    "%autoreload 2"
   ]
  },
  {
   "cell_type": "code",
   "execution_count": 8,
   "id": "490c117d-50b1-4889-b23c-cafff7f0c25b",
   "metadata": {},
   "outputs": [
    {
     "data": {
      "text/plain": [
       "('OOIAPI-9OW3P96UZ9YKH6', 'TEMP-TOKEN-A3STSZK6P6ULST')"
      ]
     },
     "execution_count": 8,
     "metadata": {},
     "output_type": "execute_result"
    }
   ],
   "source": [
    "ooipy.request.authentification.get_authentification()"
   ]
  },
  {
   "cell_type": "code",
   "execution_count": 11,
   "id": "01ff7e0a-9671-4178-b7b3-8db9e117bc5b",
   "metadata": {},
   "outputs": [],
   "source": [
    "start_time = datetime.datetime(2019,1,1)\n",
    "end_time = datetime.datetime(2019,1,1,0,1)"
   ]
  },
  {
   "cell_type": "code",
   "execution_count": 13,
   "id": "9eb972dc-8196-44af-8a27-a1a7067b074b",
   "metadata": {},
   "outputs": [],
   "source": [
    "ctddata =ooipy.request.ctd_request.get_ctd_data(start_time, end_time, location='axial_base')"
   ]
  },
  {
   "cell_type": "code",
   "execution_count": 15,
   "id": "74c4587a-b122-4931-a2fb-11be003d7864",
   "metadata": {},
   "outputs": [
    {
     "data": {
      "text/plain": [
       "array([1.80081096, 1.80086193, 1.80081096, 1.80096388, 1.80091291,\n",
       "       1.80091291, 1.80091291, 1.80091291, 1.80086193, 1.80091291,\n",
       "       1.80101486, 1.80096388, 1.80086193, 1.80096388, 1.80096388,\n",
       "       1.80106584, 1.80111681, 1.80096388, 1.80096388, 1.80101486,\n",
       "       1.80106584, 1.80101486, 1.80106584, 1.80096388, 1.80086193,\n",
       "       1.80086193, 1.80091291, 1.80091291, 1.80086193, 1.80086193,\n",
       "       1.80081096, 1.80070901, 1.80075998, 1.80081096, 1.80075998,\n",
       "       1.80065803, 1.80070901, 1.80070901, 1.80070901, 1.80070901,\n",
       "       1.80070901, 1.80070901, 1.80081096, 1.80086193, 1.80086193,\n",
       "       1.80086193, 1.80086193, 1.80086193, 1.80091291, 1.80086193,\n",
       "       1.80081096, 1.80086193, 1.80086193, 1.80081096, 1.80070901,\n",
       "       1.80075998, 1.80091291, 1.80086193, 1.80086193, 1.80096388])"
      ]
     },
     "execution_count": 15,
     "metadata": {},
     "output_type": "execute_result"
    }
   ],
   "source": [
    "ctddata.temperature"
   ]
  },
  {
   "cell_type": "code",
   "execution_count": null,
   "id": "78c11bda-4170-447c-8110-753b1b2c6b7b",
   "metadata": {},
   "outputs": [],
   "source": []
  }
 ],
 "metadata": {
  "kernelspec": {
   "display_name": "Python 3 (ipykernel)",
   "language": "python",
   "name": "python3"
  },
  "language_info": {
   "codemirror_mode": {
    "name": "ipython",
    "version": 3
   },
   "file_extension": ".py",
   "mimetype": "text/x-python",
   "name": "python",
   "nbconvert_exporter": "python",
   "pygments_lexer": "ipython3",
   "version": "3.9.7"
  }
 },
 "nbformat": 4,
 "nbformat_minor": 5
}
